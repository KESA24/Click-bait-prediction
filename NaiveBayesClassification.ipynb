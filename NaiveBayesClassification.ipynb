{
 "cells": [
  {
   "cell_type": "code",
   "execution_count": 1,
   "id": "e7bb57a7-3977-4cb5-8b90-fc3ec070b505",
   "metadata": {},
   "outputs": [],
   "source": [
    "import pandas as pd\n",
    "import numpy as np\n",
    "import matplotlib.pyplot as plt\n",
    "import seaborn as sns\n",
    "import nltk\n",
    "\n",
    "from sklearn.feature_extraction.text import TfidfVectorizer\n",
    "from sklearn.feature_extraction.text import TfidfTransformer\n",
    "\n",
    "from sklearn.model_selection import train_test_split\n",
    "from sklearn.naive_bayes import MultinomialNB\n",
    "\n",
    "from sklearn.metrics import confusion_matrix\n",
    "from sklearn.metrics import accuracy_score\n",
    "from sklearn.metrics import f1_score, recall_score"
   ]
  },
  {
   "cell_type": "code",
   "execution_count": 2,
   "id": "6c74d763-8fbc-477b-959c-6d28c43cb97a",
   "metadata": {},
   "outputs": [],
   "source": [
    "sample_submission = pd.read_csv('sample_submission_dataset.csv')\n",
    "test_data = pd.read_csv('test_dataset.csv')\n",
    "training_data = pd.read_csv('train_dataset.csv')"
   ]
  },
  {
   "cell_type": "code",
   "execution_count": 4,
   "id": "ff4dec06-0e5a-4b7f-97bb-666c62908414",
   "metadata": {},
   "outputs": [],
   "source": [
    "X_train, X_test, y_train, y_test = train_test_split(training_data['headline'], training_data['clickbait'], random_state=0)"
   ]
  },
  {
   "cell_type": "code",
   "execution_count": 5,
   "id": "b2700cb3-d44c-4df7-bba6-5aa98c4de852",
   "metadata": {},
   "outputs": [],
   "source": [
    "tfidf = TfidfVectorizer(stop_words = 'english', ngram_range = (1,2))\n",
    "tfidf_text_train = tfidf.fit_transform(X_train)\n",
    "tfidf_text_test = tfidf.transform(X_test)"
   ]
  },
  {
   "cell_type": "code",
   "execution_count": 6,
   "id": "a7e30d03-065f-4b97-93d2-cfd716a6deb6",
   "metadata": {},
   "outputs": [],
   "source": [
    "#creating a function to call after each model iteration to print accuracy and recall scores for test and train\n",
    "def train_results(preds):\n",
    "    return \"Training Accuracy:\", accuracy_score(y_train,preds),\" Training Recall:\", recall_score(y_train,preds), \"F1-score:\", f1_score(y_train, preds)\n",
    "\n",
    "def test_results(preds):\n",
    "    return \"Testing Accuracy:\", accuracy_score(y_test,preds),\" Testing Recall:\", recall_score(y_test,preds),\"F1-score:\", f1_score(y_test, preds)"
   ]
  },
  {
   "cell_type": "code",
   "execution_count": 45,
   "id": "c7c5de02-1e2a-4aac-babd-8d588f07d09f",
   "metadata": {},
   "outputs": [
    {
     "name": "stdout",
     "output_type": "stream",
     "text": [
      "('Training Accuracy:', 0.9991228070175439, ' Training Recall:', 0.9986780646867013, 'F1-score:', 0.9991183212837241)\n",
      "('Testing Accuracy:', 0.9751315789473685, ' Testing Recall:', 0.9771012230028624, 'F1-score:', 0.9754513573191322)\n"
     ]
    }
   ],
   "source": [
    "nb_classifier = MultinomialNB(alpha = .055, force_alpha=True)\n",
    "\n",
    "nb_classifier.fit(tfidf_text_train, y_train)\n",
    "\n",
    "nb_train_preds = nb_classifier.predict(tfidf_text_train)\n",
    "nb_test_preds = nb_classifier.predict(tfidf_text_test)\n",
    "\n",
    "print(train_results(nb_train_preds))\n",
    "print(test_results(nb_test_preds))"
   ]
  },
  {
   "cell_type": "code",
   "execution_count": 31,
   "id": "595e6e7a-64f5-4acd-82d6-f98852c553aa",
   "metadata": {},
   "outputs": [],
   "source": []
  },
  {
   "cell_type": "code",
   "execution_count": 32,
   "id": "5baab612-f1ac-4c88-bff7-49bb4f86eae5",
   "metadata": {},
   "outputs": [],
   "source": [
    "pred_df = pd.DataFrame(nb_final_test_preds)\n",
    "final_df = test_data.join(pred_df)\n",
    "final_df_ = final_df[['ID', 0]]\n",
    "final_df_  = final_df_.rename(columns={0: 'TARGET'})"
   ]
  },
  {
   "cell_type": "code",
   "execution_count": 34,
   "id": "e936b069-6e50-4c70-a0ba-59b34ca46f3e",
   "metadata": {},
   "outputs": [],
   "source": [
    "final_df_.to_csv('submission_003.csv',index=None)"
   ]
  },
  {
   "cell_type": "code",
   "execution_count": null,
   "id": "17b5e5ad-69bb-438c-aaad-fa2c749e1455",
   "metadata": {},
   "outputs": [],
   "source": []
  }
 ],
 "metadata": {
  "kernelspec": {
   "display_name": "Python 3 (ipykernel)",
   "language": "python",
   "name": "python3"
  },
  "language_info": {
   "codemirror_mode": {
    "name": "ipython",
    "version": 3
   },
   "file_extension": ".py",
   "mimetype": "text/x-python",
   "name": "python",
   "nbconvert_exporter": "python",
   "pygments_lexer": "ipython3",
   "version": "3.11.3"
  }
 },
 "nbformat": 4,
 "nbformat_minor": 5
}
