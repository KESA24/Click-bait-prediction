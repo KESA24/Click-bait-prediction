{
 "cells": [
  {
   "cell_type": "code",
   "execution_count": 1,
   "id": "2c75cd2b-2b46-49ce-9f06-c7a593edabdc",
   "metadata": {},
   "outputs": [],
   "source": [
    "import pandas as pd\n",
    "import numpy as np\n",
    "import matplotlib.pyplot as plt\n",
    "import seaborn as sns\n",
    "import nltk\n",
    "\n",
    "from sklearn.feature_extraction.text import TfidfVectorizer\n",
    "from sklearn.feature_extraction.text import TfidfTransformer\n",
    "\n",
    "from sklearn.model_selection import train_test_split\n",
    "from sklearn.linear_model import LogisticRegression\n",
    "\n",
    "from sklearn.metrics import confusion_matrix\n",
    "from sklearn.metrics import accuracy_score\n",
    "from sklearn.metrics import f1_score, recall_score"
   ]
  },
  {
   "cell_type": "code",
   "execution_count": 6,
   "id": "b00736e3-bc55-4b79-8232-09b42a02beeb",
   "metadata": {},
   "outputs": [],
   "source": [
    "from nltk.tokenize import RegexpTokenizer\n",
    "tokenizer = RegexpTokenizer(r'[a-zA-Z0-9]+')"
   ]
  },
  {
   "cell_type": "code",
   "execution_count": 7,
   "id": "f09313f9-7a4c-4640-8196-b17cd0dd7415",
   "metadata": {},
   "outputs": [],
   "source": [
    "from nltk.corpus import stopwords\n",
    "stop_words=set(stopwords.words(\"english\"))"
   ]
  },
  {
   "cell_type": "code",
   "execution_count": 33,
   "id": "5b758c35-1821-4881-a47e-2dbc486be51f",
   "metadata": {},
   "outputs": [],
   "source": [
    "sample_submission = pd.read_csv('sample_submission_dataset.csv')\n",
    "test_data = pd.read_csv('test_dataset.csv')\n",
    "training_data = pd.read_csv('train_dataset.csv')"
   ]
  },
  {
   "cell_type": "code",
   "execution_count": 34,
   "id": "dbd5b700-8c28-48b1-8529-472089642d3b",
   "metadata": {},
   "outputs": [
    {
     "data": {
      "text/html": [
       "<div>\n",
       "<style scoped>\n",
       "    .dataframe tbody tr th:only-of-type {\n",
       "        vertical-align: middle;\n",
       "    }\n",
       "\n",
       "    .dataframe tbody tr th {\n",
       "        vertical-align: top;\n",
       "    }\n",
       "\n",
       "    .dataframe thead th {\n",
       "        text-align: right;\n",
       "    }\n",
       "</style>\n",
       "<table border=\"1\" class=\"dataframe\">\n",
       "  <thead>\n",
       "    <tr style=\"text-align: right;\">\n",
       "      <th></th>\n",
       "      <th>headline</th>\n",
       "      <th>clickbait</th>\n",
       "      <th>ID</th>\n",
       "    </tr>\n",
       "  </thead>\n",
       "  <tbody>\n",
       "    <tr>\n",
       "      <th>0</th>\n",
       "      <td>Hussein enters \"not guilty\" plea at trial</td>\n",
       "      <td>0</td>\n",
       "      <td>84698cc7-8ae2-4ea3-a425-b7091561cee6</td>\n",
       "    </tr>\n",
       "    <tr>\n",
       "      <th>1</th>\n",
       "      <td>Iraq peace talks draw to a close in Finland</td>\n",
       "      <td>0</td>\n",
       "      <td>a4e35ca4-15fa-43e8-b68e-91457b23afee</td>\n",
       "    </tr>\n",
       "  </tbody>\n",
       "</table>\n",
       "</div>"
      ],
      "text/plain": [
       "                                      headline  clickbait  \\\n",
       "0    Hussein enters \"not guilty\" plea at trial          0   \n",
       "1  Iraq peace talks draw to a close in Finland          0   \n",
       "\n",
       "                                     ID  \n",
       "0  84698cc7-8ae2-4ea3-a425-b7091561cee6  \n",
       "1  a4e35ca4-15fa-43e8-b68e-91457b23afee  "
      ]
     },
     "execution_count": 34,
     "metadata": {},
     "output_type": "execute_result"
    }
   ],
   "source": [
    "training_data.head(2)"
   ]
  },
  {
   "cell_type": "code",
   "execution_count": 35,
   "id": "2e597616-8e8b-4c29-8fa1-9a42a59095d5",
   "metadata": {},
   "outputs": [
    {
     "data": {
      "text/plain": [
       "(15200, 2)"
      ]
     },
     "execution_count": 35,
     "metadata": {},
     "output_type": "execute_result"
    }
   ],
   "source": [
    "test_data.shape"
   ]
  },
  {
   "cell_type": "code",
   "execution_count": 36,
   "id": "7e4fcf3e-f7fc-4b4a-80a5-f1e5d754752e",
   "metadata": {},
   "outputs": [],
   "source": [
    "X_train, X_test, y_train, y_test = train_test_split(training_data['headline'], training_data['clickbait'], random_state=0)"
   ]
  },
  {
   "cell_type": "code",
   "execution_count": 37,
   "id": "7571329d-c110-49b0-80b7-5cad7b2cbefa",
   "metadata": {},
   "outputs": [],
   "source": [
    "tfidf = TfidfVectorizer(stop_words = 'english', ngram_range = (1,2))\n",
    "tfidf_text_train = tfidf.fit_transform(X_train)\n",
    "tfidf_text_test = tfidf.transform(X_test)"
   ]
  },
  {
   "cell_type": "code",
   "execution_count": 38,
   "id": "318f4f2f-a36c-4613-b3a6-68d543efd161",
   "metadata": {},
   "outputs": [],
   "source": [
    "#creating a function to call after each model iteration to print accuracy and recall scores for test and train\n",
    "def train_results(preds):\n",
    "    return \"Training Accuracy:\", accuracy_score(y_train,preds),\" Training Recall:\", recall_score(y_train,preds), \"F1-score:\", f1_score(y_train, preds)\n",
    "\n",
    "def test_results(preds):\n",
    "    return \"Testing Accuracy:\", accuracy_score(y_test,preds),\" Testing Recall:\", recall_score(y_test,preds),\"F1-score:\", f1_score(y_test, preds)"
   ]
  },
  {
   "cell_type": "code",
   "execution_count": 56,
   "id": "7fee3895-3729-4b45-9fb2-e68779742d56",
   "metadata": {},
   "outputs": [
    {
     "name": "stdout",
     "output_type": "stream",
     "text": [
      "('Training Accuracy:', 1.0, ' Training Recall:', 1.0, 'F1-score:', 1.0)\n",
      "('Testing Accuracy:', 0.9751315789473685, ' Testing Recall:', 0.9778818631277648, 'F1-score:', 0.9754704737183647)\n"
     ]
    },
    {
     "data": {
      "image/png": "[encoded data removed]",
      "text/plain": [
       "<Figure size 640x480 with 1 Axes>"
      ]
     },
     "metadata": {},
     "output_type": "display_data"
    }
   ],
   "source": [
    "# lr = LogisticRegression(C=500, class_weight = 'balanced', solver = 'liblinear', tol=0.0001)\n",
    "lr = LogisticRegression(C=1e5,class_weight = 'balanced',solver = 'liblinear', tol=0.0001)\n",
    "\n",
    "lr.fit(tfidf_text_train, y_train)\n",
    "\n",
    "lr_train_preds = lr.predict(tfidf_text_train)\n",
    "lr_test_preds = lr.predict(tfidf_text_test)\n",
    "\n",
    "print(train_results(lr_train_preds))\n",
    "print(test_results(lr_test_preds))\n",
    "\n",
    "#confusion matrix on test set lr Classifier \n",
    "sns.set()\n",
    "\n",
    "cm_dc = confusion_matrix(y_test, lr_test_preds)\n",
    "sns.heatmap(cm_dc.T, square=True, annot=True, fmt='d', cbar=False,cmap=\"inferno\", xticklabels=['non-clickbait','clickbait'],yticklabels=['non-clickbait','clickbait']\n",
    "            )\n",
    "plt.xlabel('true label')\n",
    "plt.ylabel('predicted label');"
   ]
  },
  {
   "cell_type": "code",
   "execution_count": 58,
   "id": "34ab43b0-43f6-412f-83d3-aebc658e4d15",
   "metadata": {},
   "outputs": [],
   "source": [
    "final_x_test = test_data['headline']\n",
    "tfidf_final_text_test = tfidf.transform(final_x_test )\n",
    "nb_final_test_preds = lr.predict(tfidf_final_text_test)"
   ]
  },
  {
   "cell_type": "code",
   "execution_count": 59,
   "id": "7d8c12eb-2a5b-4935-b770-f7628d06fad7",
   "metadata": {},
   "outputs": [],
   "source": [
    "pred_df = pd.DataFrame(nb_final_test_preds)\n",
    "final_df = test_data.join(pred_df)\n",
    "final_df_ = final_df[['ID', 0]]\n",
    "final_df_  = final_df_.rename(columns={0: 'TARGET'})"
   ]
  },
  {
   "cell_type": "code",
   "execution_count": 62,
   "id": "9d78efeb-3824-49e5-82a2-6fe904a4f013",
   "metadata": {},
   "outputs": [
    {
     "data": {
      "text/html": [
       "<div>\n",
       "<style scoped>\n",
       "    .dataframe tbody tr th:only-of-type {\n",
       "        vertical-align: middle;\n",
       "    }\n",
       "\n",
       "    .dataframe tbody tr th {\n",
       "        vertical-align: top;\n",
       "    }\n",
       "\n",
       "    .dataframe thead th {\n",
       "        text-align: right;\n",
       "    }\n",
       "</style>\n",
       "<table border=\"1\" class=\"dataframe\">\n",
       "  <thead>\n",
       "    <tr style=\"text-align: right;\">\n",
       "      <th></th>\n",
       "      <th>ID</th>\n",
       "      <th>TARGET</th>\n",
       "    </tr>\n",
       "  </thead>\n",
       "  <tbody>\n",
       "    <tr>\n",
       "      <th>0</th>\n",
       "      <td>5f99b099-c4db-4a02-9753-28c5e94a6b34</td>\n",
       "      <td>0</td>\n",
       "    </tr>\n",
       "    <tr>\n",
       "      <th>1</th>\n",
       "      <td>3c413552-32c0-4000-a745-b4217fe427ca</td>\n",
       "      <td>0</td>\n",
       "    </tr>\n",
       "    <tr>\n",
       "      <th>2</th>\n",
       "      <td>71060e3b-bab0-4218-b1ce-8284ae46f6c3</td>\n",
       "      <td>1</td>\n",
       "    </tr>\n",
       "    <tr>\n",
       "      <th>3</th>\n",
       "      <td>f0a03121-600f-4b69-b6db-989d0f3cf28a</td>\n",
       "      <td>1</td>\n",
       "    </tr>\n",
       "    <tr>\n",
       "      <th>4</th>\n",
       "      <td>456f7cfa-bdfe-45bd-9e88-7c4ae53eb4ba</td>\n",
       "      <td>0</td>\n",
       "    </tr>\n",
       "    <tr>\n",
       "      <th>...</th>\n",
       "      <td>...</td>\n",
       "      <td>...</td>\n",
       "    </tr>\n",
       "    <tr>\n",
       "      <th>15195</th>\n",
       "      <td>be658ab2-e073-4078-8d23-999bce6f0980</td>\n",
       "      <td>1</td>\n",
       "    </tr>\n",
       "    <tr>\n",
       "      <th>15196</th>\n",
       "      <td>3b876ee2-66c2-4743-8389-c93c2f598398</td>\n",
       "      <td>1</td>\n",
       "    </tr>\n",
       "    <tr>\n",
       "      <th>15197</th>\n",
       "      <td>f565e8b5-d6f0-4fb5-b1eb-3048d3e5d57a</td>\n",
       "      <td>0</td>\n",
       "    </tr>\n",
       "    <tr>\n",
       "      <th>15198</th>\n",
       "      <td>c0bc2203-cd7a-46c2-9e9b-5f41ea1bb346</td>\n",
       "      <td>1</td>\n",
       "    </tr>\n",
       "    <tr>\n",
       "      <th>15199</th>\n",
       "      <td>88b789f1-733f-4edf-83b0-f71c58a81da3</td>\n",
       "      <td>0</td>\n",
       "    </tr>\n",
       "  </tbody>\n",
       "</table>\n",
       "<p>15200 rows × 2 columns</p>\n",
       "</div>"
      ],
      "text/plain": [
       "                                         ID  TARGET\n",
       "0      5f99b099-c4db-4a02-9753-28c5e94a6b34       0\n",
       "1      3c413552-32c0-4000-a745-b4217fe427ca       0\n",
       "2      71060e3b-bab0-4218-b1ce-8284ae46f6c3       1\n",
       "3      f0a03121-600f-4b69-b6db-989d0f3cf28a       1\n",
       "4      456f7cfa-bdfe-45bd-9e88-7c4ae53eb4ba       0\n",
       "...                                     ...     ...\n",
       "15195  be658ab2-e073-4078-8d23-999bce6f0980       1\n",
       "15196  3b876ee2-66c2-4743-8389-c93c2f598398       1\n",
       "15197  f565e8b5-d6f0-4fb5-b1eb-3048d3e5d57a       0\n",
       "15198  c0bc2203-cd7a-46c2-9e9b-5f41ea1bb346       1\n",
       "15199  88b789f1-733f-4edf-83b0-f71c58a81da3       0\n",
       "\n",
       "[15200 rows x 2 columns]"
      ]
     },
     "execution_count": 62,
     "metadata": {},
     "output_type": "execute_result"
    }
   ],
   "source": [
    "final_df_"
   ]
  },
  {
   "cell_type": "code",
   "execution_count": 64,
   "id": "8c65add1-db17-4ae4-a235-1c3d9f9ba6ee",
   "metadata": {},
   "outputs": [],
   "source": [
    "final_df_.to_csv('submission_002.csv',index=None)"
   ]
  },
  {
   "cell_type": "code",
   "execution_count": null,
   "id": "9ed9cdc6-92e0-4054-8a75-9f14a21ddde7",
   "metadata": {},
   "outputs": [],
   "source": []
  }
 ],
 "metadata": {
  "kernelspec": {
   "display_name": "Python 3 (ipykernel)",
   "language": "python",
   "name": "python3"
  },
  "language_info": {
   "codemirror_mode": {
    "name": "ipython",
    "version": 3
   },
   "file_extension": ".py",
   "mimetype": "text/x-python",
   "name": "python",
   "nbconvert_exporter": "python",
   "pygments_lexer": "ipython3",
   "version": "3.11.3"
  }
 },
 "nbformat": 4,
 "nbformat_minor": 5
}
