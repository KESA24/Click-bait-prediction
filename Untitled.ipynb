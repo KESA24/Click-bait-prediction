{
 "cells": [
  {
   "cell_type": "code",
   "execution_count": 1,
   "id": "f30c0f25-7541-4472-a243-6c2d3ecc5613",
   "metadata": {},
   "outputs": [],
   "source": [
    "import pandas as pd"
   ]
  },
  {
   "cell_type": "code",
   "execution_count": 44,
   "id": "864053fe-6219-414c-b3ae-13f8ba0c3e5c",
   "metadata": {},
   "outputs": [],
   "source": [
    "data = pd.read_csv('data/covid_data.csv')\n",
    "col = pd.read_csv('data/cardio_base.csv')\n",
    "card = pd.read_csv('data/cardio_alco.csv', sep=';')"
   ]
  },
  {
   "cell_type": "code",
   "execution_count": 45,
   "id": "8aeb37f0-58e9-43b7-9d45-9e645806026a",
   "metadata": {},
   "outputs": [
    {
     "data": {
      "text/html": [
       "<div>\n",
       "<style scoped>\n",
       "    .dataframe tbody tr th:only-of-type {\n",
       "        vertical-align: middle;\n",
       "    }\n",
       "\n",
       "    .dataframe tbody tr th {\n",
       "        vertical-align: top;\n",
       "    }\n",
       "\n",
       "    .dataframe thead th {\n",
       "        text-align: right;\n",
       "    }\n",
       "</style>\n",
       "<table border=\"1\" class=\"dataframe\">\n",
       "  <thead>\n",
       "    <tr style=\"text-align: right;\">\n",
       "      <th></th>\n",
       "      <th>smoke</th>\n",
       "    </tr>\n",
       "    <tr>\n",
       "      <th>gender</th>\n",
       "      <th></th>\n",
       "    </tr>\n",
       "  </thead>\n",
       "  <tbody>\n",
       "    <tr>\n",
       "      <th>1</th>\n",
       "      <td>45530</td>\n",
       "    </tr>\n",
       "    <tr>\n",
       "      <th>2</th>\n",
       "      <td>24470</td>\n",
       "    </tr>\n",
       "  </tbody>\n",
       "</table>\n",
       "</div>"
      ],
      "text/plain": [
       "        smoke\n",
       "gender       \n",
       "1       45530\n",
       "2       24470"
      ]
     },
     "execution_count": 45,
     "metadata": {},
     "output_type": "execute_result"
    }
   ],
   "source": [
    "col.groupby('gender').agg({'smoke': 'count'})"
   ]
  },
  {
   "cell_type": "code",
   "execution_count": 46,
   "id": "45d721e8-be9b-496f-82df-792197a9d865",
   "metadata": {},
   "outputs": [
    {
     "data": {
      "text/plain": [
       "1.8606456885982836"
      ]
     },
     "execution_count": 46,
     "metadata": {},
     "output_type": "execute_result"
    }
   ],
   "source": [
    "45530/24470"
   ]
  },
  {
   "cell_type": "code",
   "execution_count": 47,
   "id": "cc0e1f5a-c812-43f4-ac01-390b48fe20fe",
   "metadata": {},
   "outputs": [
    {
     "data": {
      "text/html": [
       "<div>\n",
       "<style scoped>\n",
       "    .dataframe tbody tr th:only-of-type {\n",
       "        vertical-align: middle;\n",
       "    }\n",
       "\n",
       "    .dataframe tbody tr th {\n",
       "        vertical-align: top;\n",
       "    }\n",
       "\n",
       "    .dataframe thead th {\n",
       "        text-align: right;\n",
       "    }\n",
       "</style>\n",
       "<table border=\"1\" class=\"dataframe\">\n",
       "  <thead>\n",
       "    <tr style=\"text-align: right;\">\n",
       "      <th></th>\n",
       "      <th>id</th>\n",
       "      <th>alco</th>\n",
       "    </tr>\n",
       "  </thead>\n",
       "  <tbody>\n",
       "    <tr>\n",
       "      <th>0</th>\n",
       "      <td>44</td>\n",
       "      <td>0</td>\n",
       "    </tr>\n",
       "    <tr>\n",
       "      <th>1</th>\n",
       "      <td>45</td>\n",
       "      <td>0</td>\n",
       "    </tr>\n",
       "    <tr>\n",
       "      <th>2</th>\n",
       "      <td>46</td>\n",
       "      <td>0</td>\n",
       "    </tr>\n",
       "  </tbody>\n",
       "</table>\n",
       "</div>"
      ],
      "text/plain": [
       "   id  alco\n",
       "0  44     0\n",
       "1  45     0\n",
       "2  46     0"
      ]
     },
     "execution_count": 47,
     "metadata": {},
     "output_type": "execute_result"
    }
   ],
   "source": [
    "card.head(3)"
   ]
  },
  {
   "cell_type": "code",
   "execution_count": 20,
   "id": "ed987d6e-2ab6-44a7-81e5-cf7cbbcea176",
   "metadata": {},
   "outputs": [],
   "source": [
    "col['q'] = pd.qcut(col['height'], 10)"
   ]
  },
  {
   "cell_type": "code",
   "execution_count": 21,
   "id": "0fcfabf6-1263-486f-9d90-f4d829fea1fc",
   "metadata": {},
   "outputs": [
    {
     "data": {
      "text/html": [
       "<div>\n",
       "<style scoped>\n",
       "    .dataframe tbody tr th:only-of-type {\n",
       "        vertical-align: middle;\n",
       "    }\n",
       "\n",
       "    .dataframe tbody tr th {\n",
       "        vertical-align: top;\n",
       "    }\n",
       "\n",
       "    .dataframe thead th {\n",
       "        text-align: right;\n",
       "    }\n",
       "</style>\n",
       "<table border=\"1\" class=\"dataframe\">\n",
       "  <thead>\n",
       "    <tr style=\"text-align: right;\">\n",
       "      <th></th>\n",
       "      <th>id</th>\n",
       "      <th>age</th>\n",
       "      <th>gender</th>\n",
       "      <th>height</th>\n",
       "      <th>weight</th>\n",
       "      <th>ap_hi</th>\n",
       "      <th>ap_lo</th>\n",
       "      <th>cholesterol</th>\n",
       "      <th>smoke</th>\n",
       "      <th>q</th>\n",
       "    </tr>\n",
       "  </thead>\n",
       "  <tbody>\n",
       "    <tr>\n",
       "      <th>0</th>\n",
       "      <td>0</td>\n",
       "      <td>18393</td>\n",
       "      <td>2</td>\n",
       "      <td>168</td>\n",
       "      <td>62.0</td>\n",
       "      <td>110</td>\n",
       "      <td>80</td>\n",
       "      <td>1</td>\n",
       "      <td>0</td>\n",
       "      <td>(166.0, 168.0]</td>\n",
       "    </tr>\n",
       "    <tr>\n",
       "      <th>1</th>\n",
       "      <td>1</td>\n",
       "      <td>20228</td>\n",
       "      <td>1</td>\n",
       "      <td>156</td>\n",
       "      <td>85.0</td>\n",
       "      <td>140</td>\n",
       "      <td>90</td>\n",
       "      <td>3</td>\n",
       "      <td>0</td>\n",
       "      <td>(155.0, 158.0]</td>\n",
       "    </tr>\n",
       "    <tr>\n",
       "      <th>2</th>\n",
       "      <td>2</td>\n",
       "      <td>18857</td>\n",
       "      <td>1</td>\n",
       "      <td>165</td>\n",
       "      <td>64.0</td>\n",
       "      <td>130</td>\n",
       "      <td>70</td>\n",
       "      <td>3</td>\n",
       "      <td>0</td>\n",
       "      <td>(162.0, 165.0]</td>\n",
       "    </tr>\n",
       "    <tr>\n",
       "      <th>3</th>\n",
       "      <td>3</td>\n",
       "      <td>17623</td>\n",
       "      <td>2</td>\n",
       "      <td>169</td>\n",
       "      <td>82.0</td>\n",
       "      <td>150</td>\n",
       "      <td>100</td>\n",
       "      <td>1</td>\n",
       "      <td>0</td>\n",
       "      <td>(168.0, 170.0]</td>\n",
       "    </tr>\n",
       "    <tr>\n",
       "      <th>4</th>\n",
       "      <td>4</td>\n",
       "      <td>17474</td>\n",
       "      <td>1</td>\n",
       "      <td>156</td>\n",
       "      <td>56.0</td>\n",
       "      <td>100</td>\n",
       "      <td>60</td>\n",
       "      <td>1</td>\n",
       "      <td>0</td>\n",
       "      <td>(155.0, 158.0]</td>\n",
       "    </tr>\n",
       "    <tr>\n",
       "      <th>...</th>\n",
       "      <td>...</td>\n",
       "      <td>...</td>\n",
       "      <td>...</td>\n",
       "      <td>...</td>\n",
       "      <td>...</td>\n",
       "      <td>...</td>\n",
       "      <td>...</td>\n",
       "      <td>...</td>\n",
       "      <td>...</td>\n",
       "      <td>...</td>\n",
       "    </tr>\n",
       "    <tr>\n",
       "      <th>69995</th>\n",
       "      <td>99993</td>\n",
       "      <td>19240</td>\n",
       "      <td>2</td>\n",
       "      <td>168</td>\n",
       "      <td>76.0</td>\n",
       "      <td>120</td>\n",
       "      <td>80</td>\n",
       "      <td>1</td>\n",
       "      <td>1</td>\n",
       "      <td>(166.0, 168.0]</td>\n",
       "    </tr>\n",
       "    <tr>\n",
       "      <th>69996</th>\n",
       "      <td>99995</td>\n",
       "      <td>22601</td>\n",
       "      <td>1</td>\n",
       "      <td>158</td>\n",
       "      <td>126.0</td>\n",
       "      <td>140</td>\n",
       "      <td>90</td>\n",
       "      <td>2</td>\n",
       "      <td>0</td>\n",
       "      <td>(155.0, 158.0]</td>\n",
       "    </tr>\n",
       "    <tr>\n",
       "      <th>69997</th>\n",
       "      <td>99996</td>\n",
       "      <td>19066</td>\n",
       "      <td>2</td>\n",
       "      <td>183</td>\n",
       "      <td>105.0</td>\n",
       "      <td>180</td>\n",
       "      <td>90</td>\n",
       "      <td>3</td>\n",
       "      <td>0</td>\n",
       "      <td>(175.0, 250.0]</td>\n",
       "    </tr>\n",
       "    <tr>\n",
       "      <th>69998</th>\n",
       "      <td>99998</td>\n",
       "      <td>22431</td>\n",
       "      <td>1</td>\n",
       "      <td>163</td>\n",
       "      <td>72.0</td>\n",
       "      <td>135</td>\n",
       "      <td>80</td>\n",
       "      <td>1</td>\n",
       "      <td>0</td>\n",
       "      <td>(162.0, 165.0]</td>\n",
       "    </tr>\n",
       "    <tr>\n",
       "      <th>69999</th>\n",
       "      <td>99999</td>\n",
       "      <td>20540</td>\n",
       "      <td>1</td>\n",
       "      <td>170</td>\n",
       "      <td>72.0</td>\n",
       "      <td>120</td>\n",
       "      <td>80</td>\n",
       "      <td>2</td>\n",
       "      <td>0</td>\n",
       "      <td>(168.0, 170.0]</td>\n",
       "    </tr>\n",
       "  </tbody>\n",
       "</table>\n",
       "<p>70000 rows × 10 columns</p>\n",
       "</div>"
      ],
      "text/plain": [
       "          id    age  gender  height  weight  ap_hi  ap_lo  cholesterol  smoke  \\\n",
       "0          0  18393       2     168    62.0    110     80            1      0   \n",
       "1          1  20228       1     156    85.0    140     90            3      0   \n",
       "2          2  18857       1     165    64.0    130     70            3      0   \n",
       "3          3  17623       2     169    82.0    150    100            1      0   \n",
       "4          4  17474       1     156    56.0    100     60            1      0   \n",
       "...      ...    ...     ...     ...     ...    ...    ...          ...    ...   \n",
       "69995  99993  19240       2     168    76.0    120     80            1      1   \n",
       "69996  99995  22601       1     158   126.0    140     90            2      0   \n",
       "69997  99996  19066       2     183   105.0    180     90            3      0   \n",
       "69998  99998  22431       1     163    72.0    135     80            1      0   \n",
       "69999  99999  20540       1     170    72.0    120     80            2      0   \n",
       "\n",
       "                    q  \n",
       "0      (166.0, 168.0]  \n",
       "1      (155.0, 158.0]  \n",
       "2      (162.0, 165.0]  \n",
       "3      (168.0, 170.0]  \n",
       "4      (155.0, 158.0]  \n",
       "...               ...  \n",
       "69995  (166.0, 168.0]  \n",
       "69996  (155.0, 158.0]  \n",
       "69997  (175.0, 250.0]  \n",
       "69998  (162.0, 165.0]  \n",
       "69999  (168.0, 170.0]  \n",
       "\n",
       "[70000 rows x 10 columns]"
      ]
     },
     "execution_count": 21,
     "metadata": {},
     "output_type": "execute_result"
    }
   ],
   "source": [
    "col"
   ]
  },
  {
   "cell_type": "code",
   "execution_count": 22,
   "id": "8537e2a8-1901-4cf6-88ef-52dc03e0822e",
   "metadata": {},
   "outputs": [
    {
     "data": {
      "text/html": [
       "<div>\n",
       "<style scoped>\n",
       "    .dataframe tbody tr th:only-of-type {\n",
       "        vertical-align: middle;\n",
       "    }\n",
       "\n",
       "    .dataframe tbody tr th {\n",
       "        vertical-align: top;\n",
       "    }\n",
       "\n",
       "    .dataframe thead th {\n",
       "        text-align: right;\n",
       "    }\n",
       "</style>\n",
       "<table border=\"1\" class=\"dataframe\">\n",
       "  <thead>\n",
       "    <tr style=\"text-align: right;\">\n",
       "      <th></th>\n",
       "      <th>height</th>\n",
       "    </tr>\n",
       "    <tr>\n",
       "      <th>q</th>\n",
       "      <th></th>\n",
       "    </tr>\n",
       "  </thead>\n",
       "  <tbody>\n",
       "    <tr>\n",
       "      <th>(54.999, 155.0]</th>\n",
       "      <td>151.261478</td>\n",
       "    </tr>\n",
       "    <tr>\n",
       "      <th>(155.0, 158.0]</th>\n",
       "      <td>157.070794</td>\n",
       "    </tr>\n",
       "    <tr>\n",
       "      <th>(158.0, 160.0]</th>\n",
       "      <td>159.715792</td>\n",
       "    </tr>\n",
       "    <tr>\n",
       "      <th>(160.0, 162.0]</th>\n",
       "      <td>161.655464</td>\n",
       "    </tr>\n",
       "    <tr>\n",
       "      <th>(162.0, 165.0]</th>\n",
       "      <td>164.283638</td>\n",
       "    </tr>\n",
       "    <tr>\n",
       "      <th>(165.0, 166.0]</th>\n",
       "      <td>166.000000</td>\n",
       "    </tr>\n",
       "    <tr>\n",
       "      <th>(166.0, 168.0]</th>\n",
       "      <td>167.634136</td>\n",
       "    </tr>\n",
       "    <tr>\n",
       "      <th>(168.0, 170.0]</th>\n",
       "      <td>169.626372</td>\n",
       "    </tr>\n",
       "    <tr>\n",
       "      <th>(170.0, 175.0]</th>\n",
       "      <td>173.068846</td>\n",
       "    </tr>\n",
       "    <tr>\n",
       "      <th>(175.0, 250.0]</th>\n",
       "      <td>179.566499</td>\n",
       "    </tr>\n",
       "  </tbody>\n",
       "</table>\n",
       "</div>"
      ],
      "text/plain": [
       "                     height\n",
       "q                          \n",
       "(54.999, 155.0]  151.261478\n",
       "(155.0, 158.0]   157.070794\n",
       "(158.0, 160.0]   159.715792\n",
       "(160.0, 162.0]   161.655464\n",
       "(162.0, 165.0]   164.283638\n",
       "(165.0, 166.0]   166.000000\n",
       "(166.0, 168.0]   167.634136\n",
       "(168.0, 170.0]   169.626372\n",
       "(170.0, 175.0]   173.068846\n",
       "(175.0, 250.0]   179.566499"
      ]
     },
     "execution_count": 22,
     "metadata": {},
     "output_type": "execute_result"
    }
   ],
   "source": [
    "col.groupby('q').agg({'height': 'mean'})"
   ]
  },
  {
   "cell_type": "code",
   "execution_count": 36,
   "id": "60243135-61fa-4dd6-b359-79c95ba1bd00",
   "metadata": {},
   "outputs": [
    {
     "data": {
      "text/plain": [
       "count    70000.000000\n",
       "mean       164.359229\n",
       "std          8.210126\n",
       "min         55.000000\n",
       "25%        159.000000\n",
       "50%        165.000000\n",
       "75%        170.000000\n",
       "max        250.000000\n",
       "Name: height, dtype: float64"
      ]
     },
     "execution_count": 36,
     "metadata": {},
     "output_type": "execute_result"
    }
   ],
   "source": [
    "col['height'].describe()"
   ]
  },
  {
   "cell_type": "code",
   "execution_count": 38,
   "id": "57e29975-a3a9-4487-9d54-669062f1b550",
   "metadata": {},
   "outputs": [],
   "source": [
    "var = col['height'].var()"
   ]
  },
  {
   "cell_type": "code",
   "execution_count": 39,
   "id": "133b4a67-0432-484e-a8a0-884f6ac344db",
   "metadata": {},
   "outputs": [],
   "source": [
    "import math"
   ]
  },
  {
   "cell_type": "code",
   "execution_count": 41,
   "id": "ea5a0c21-ed9e-4b39-a3c3-1acff2ff48c1",
   "metadata": {},
   "outputs": [
    {
     "data": {
      "text/plain": [
       "16.420252729076076"
      ]
     },
     "execution_count": 41,
     "metadata": {},
     "output_type": "execute_result"
    }
   ],
   "source": [
    "math.sqrt(var)*2"
   ]
  },
  {
   "cell_type": "code",
   "execution_count": 48,
   "id": "ff52cf2d-f4f9-4505-bdb3-7e59bea8f7ed",
   "metadata": {},
   "outputs": [],
   "source": [
    "data_2 = col.merge(card, on='id', how='inner')"
   ]
  },
  {
   "cell_type": "code",
   "execution_count": 57,
   "id": "198a0977-481d-4144-9651-fc93f087cefe",
   "metadata": {},
   "outputs": [],
   "source": [
    "ig = ['Germany']"
   ]
  },
  {
   "cell_type": "code",
   "execution_count": 64,
   "id": "b0f3a649-41dc-44c6-b955-7b102f81be27",
   "metadata": {},
   "outputs": [],
   "source": [
    "gd = data.query('location in @ig')[['date', 'new_cases']].rename(columns={'new_cases': 'g_cases'})"
   ]
  },
  {
   "cell_type": "code",
   "execution_count": 80,
   "id": "a3866ff5-fb1a-4cc1-998c-a0b82c1b0ef4",
   "metadata": {},
   "outputs": [],
   "source": [
    "id = data.query('location == \"Italy\"')[['date', 'new_cases']].rename(columns={'new_cases': 'i_cases'})"
   ]
  },
  {
   "cell_type": "code",
   "execution_count": 82,
   "id": "7fd87bd7-5017-4131-ac42-a79af62e2815",
   "metadata": {},
   "outputs": [],
   "source": [
    "d = id.merge(gd, on = 'date')"
   ]
  },
  {
   "cell_type": "code",
   "execution_count": 86,
   "id": "f1154201-f036-4def-a697-dab2c388614c",
   "metadata": {},
   "outputs": [],
   "source": [
    "d['diff'] = d['i_cases']-d['g_cases']"
   ]
  },
  {
   "cell_type": "code",
   "execution_count": 92,
   "id": "5bb3340f-088f-4166-be89-8f43ee781f54",
   "metadata": {},
   "outputs": [],
   "source": [
    "d['diff'] = d['diff'].rolling(2).sum()"
   ]
  },
  {
   "cell_type": "code",
   "execution_count": 97,
   "id": "1aafa9b6-d4fe-4b1d-8798-c32003d0d496",
   "metadata": {},
   "outputs": [
    {
     "data": {
      "text/html": [
       "<div>\n",
       "<style scoped>\n",
       "    .dataframe tbody tr th:only-of-type {\n",
       "        vertical-align: middle;\n",
       "    }\n",
       "\n",
       "    .dataframe tbody tr th {\n",
       "        vertical-align: top;\n",
       "    }\n",
       "\n",
       "    .dataframe thead th {\n",
       "        text-align: right;\n",
       "    }\n",
       "</style>\n",
       "<table border=\"1\" class=\"dataframe\">\n",
       "  <thead>\n",
       "    <tr style=\"text-align: right;\">\n",
       "      <th></th>\n",
       "      <th>location</th>\n",
       "      <th>date</th>\n",
       "      <th>new_cases</th>\n",
       "      <th>new_deaths</th>\n",
       "      <th>population</th>\n",
       "      <th>aged_65_older_percent</th>\n",
       "      <th>gdp_per_capita</th>\n",
       "      <th>hospital_beds_per_thousand</th>\n",
       "    </tr>\n",
       "  </thead>\n",
       "  <tbody>\n",
       "    <tr>\n",
       "      <th>0</th>\n",
       "      <td>Afghanistan</td>\n",
       "      <td>2019-12-31</td>\n",
       "      <td>0</td>\n",
       "      <td>0</td>\n",
       "      <td>38928341.0</td>\n",
       "      <td>2.581</td>\n",
       "      <td>1803.987</td>\n",
       "      <td>0.5</td>\n",
       "    </tr>\n",
       "    <tr>\n",
       "      <th>1</th>\n",
       "      <td>Afghanistan</td>\n",
       "      <td>2020-01-01</td>\n",
       "      <td>0</td>\n",
       "      <td>0</td>\n",
       "      <td>38928341.0</td>\n",
       "      <td>2.581</td>\n",
       "      <td>1803.987</td>\n",
       "      <td>0.5</td>\n",
       "    </tr>\n",
       "    <tr>\n",
       "      <th>2</th>\n",
       "      <td>Afghanistan</td>\n",
       "      <td>2020-01-02</td>\n",
       "      <td>0</td>\n",
       "      <td>0</td>\n",
       "      <td>38928341.0</td>\n",
       "      <td>2.581</td>\n",
       "      <td>1803.987</td>\n",
       "      <td>0.5</td>\n",
       "    </tr>\n",
       "    <tr>\n",
       "      <th>3</th>\n",
       "      <td>Afghanistan</td>\n",
       "      <td>2020-01-03</td>\n",
       "      <td>0</td>\n",
       "      <td>0</td>\n",
       "      <td>38928341.0</td>\n",
       "      <td>2.581</td>\n",
       "      <td>1803.987</td>\n",
       "      <td>0.5</td>\n",
       "    </tr>\n",
       "    <tr>\n",
       "      <th>4</th>\n",
       "      <td>Afghanistan</td>\n",
       "      <td>2020-01-04</td>\n",
       "      <td>0</td>\n",
       "      <td>0</td>\n",
       "      <td>38928341.0</td>\n",
       "      <td>2.581</td>\n",
       "      <td>1803.987</td>\n",
       "      <td>0.5</td>\n",
       "    </tr>\n",
       "  </tbody>\n",
       "</table>\n",
       "</div>"
      ],
      "text/plain": [
       "      location        date  new_cases  new_deaths  population  \\\n",
       "0  Afghanistan  2019-12-31          0           0  38928341.0   \n",
       "1  Afghanistan  2020-01-01          0           0  38928341.0   \n",
       "2  Afghanistan  2020-01-02          0           0  38928341.0   \n",
       "3  Afghanistan  2020-01-03          0           0  38928341.0   \n",
       "4  Afghanistan  2020-01-04          0           0  38928341.0   \n",
       "\n",
       "   aged_65_older_percent  gdp_per_capita  hospital_beds_per_thousand  \n",
       "0                  2.581        1803.987                         0.5  \n",
       "1                  2.581        1803.987                         0.5  \n",
       "2                  2.581        1803.987                         0.5  \n",
       "3                  2.581        1803.987                         0.5  \n",
       "4                  2.581        1803.987                         0.5  "
      ]
     },
     "execution_count": 97,
     "metadata": {},
     "output_type": "execute_result"
    }
   ],
   "source": [
    "data.head()"
   ]
  },
  {
   "cell_type": "code",
   "execution_count": 110,
   "id": "9d7cb632-fff8-4997-abd0-21c36bf9bfa9",
   "metadata": {},
   "outputs": [],
   "source": [
    "death =data.groupby('location').agg({'new_deaths': 'sum'}).sort_values(by='new_deaths')"
   ]
  },
  {
   "cell_type": "code",
   "execution_count": 111,
   "id": "ec997b67-7a84-4c72-bf57-bd6224290b4d",
   "metadata": {},
   "outputs": [
    {
     "data": {
      "text/html": [
       "<div>\n",
       "<style scoped>\n",
       "    .dataframe tbody tr th:only-of-type {\n",
       "        vertical-align: middle;\n",
       "    }\n",
       "\n",
       "    .dataframe tbody tr th {\n",
       "        vertical-align: top;\n",
       "    }\n",
       "\n",
       "    .dataframe thead th {\n",
       "        text-align: right;\n",
       "    }\n",
       "</style>\n",
       "<table border=\"1\" class=\"dataframe\">\n",
       "  <thead>\n",
       "    <tr style=\"text-align: right;\">\n",
       "      <th></th>\n",
       "      <th>new_deaths</th>\n",
       "    </tr>\n",
       "    <tr>\n",
       "      <th>location</th>\n",
       "      <th></th>\n",
       "    </tr>\n",
       "  </thead>\n",
       "  <tbody>\n",
       "    <tr>\n",
       "      <th>Bonaire Sint Eustatius and Saba</th>\n",
       "      <td>0</td>\n",
       "    </tr>\n",
       "    <tr>\n",
       "      <th>Timor</th>\n",
       "      <td>0</td>\n",
       "    </tr>\n",
       "    <tr>\n",
       "      <th>French Polynesia</th>\n",
       "      <td>0</td>\n",
       "    </tr>\n",
       "    <tr>\n",
       "      <th>Namibia</th>\n",
       "      <td>0</td>\n",
       "    </tr>\n",
       "    <tr>\n",
       "      <th>Fiji</th>\n",
       "      <td>0</td>\n",
       "    </tr>\n",
       "    <tr>\n",
       "      <th>...</th>\n",
       "      <td>...</td>\n",
       "    </tr>\n",
       "    <tr>\n",
       "      <th>Italy</th>\n",
       "      <td>34043</td>\n",
       "    </tr>\n",
       "    <tr>\n",
       "      <th>Brazil</th>\n",
       "      <td>38406</td>\n",
       "    </tr>\n",
       "    <tr>\n",
       "      <th>United Kingdom</th>\n",
       "      <td>40883</td>\n",
       "    </tr>\n",
       "    <tr>\n",
       "      <th>United States</th>\n",
       "      <td>112006</td>\n",
       "    </tr>\n",
       "    <tr>\n",
       "      <th>World</th>\n",
       "      <td>411195</td>\n",
       "    </tr>\n",
       "  </tbody>\n",
       "</table>\n",
       "<p>212 rows × 1 columns</p>\n",
       "</div>"
      ],
      "text/plain": [
       "                                 new_deaths\n",
       "location                                   \n",
       "Bonaire Sint Eustatius and Saba           0\n",
       "Timor                                     0\n",
       "French Polynesia                          0\n",
       "Namibia                                   0\n",
       "Fiji                                      0\n",
       "...                                     ...\n",
       "Italy                                 34043\n",
       "Brazil                                38406\n",
       "United Kingdom                        40883\n",
       "United States                        112006\n",
       "World                                411195\n",
       "\n",
       "[212 rows x 1 columns]"
      ]
     },
     "execution_count": 111,
     "metadata": {},
     "output_type": "execute_result"
    }
   ],
   "source": [
    "death['rate'] = death['new']"
   ]
  },
  {
   "cell_type": "code",
   "execution_count": null,
   "id": "0ba38121-c646-4e97-944d-5f126874b1d3",
   "metadata": {},
   "outputs": [],
   "source": []
  }
 ],
 "metadata": {
  "kernelspec": {
   "display_name": "Python 3 (ipykernel)",
   "language": "python",
   "name": "python3"
  },
  "language_info": {
   "codemirror_mode": {
    "name": "ipython",
    "version": 3
   },
   "file_extension": ".py",
   "mimetype": "text/x-python",
   "name": "python",
   "nbconvert_exporter": "python",
   "pygments_lexer": "ipython3",
   "version": "3.9.0"
  }
 },
 "nbformat": 4,
 "nbformat_minor": 5
}
