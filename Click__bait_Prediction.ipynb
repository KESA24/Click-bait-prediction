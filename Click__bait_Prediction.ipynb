{
 "cells": [
  {
   "cell_type": "code",
   "execution_count": 1,
   "metadata": {},
   "outputs": [],
   "source": [
    "import pandas as pd\n",
    "import numpy as np\n",
    "import matplotlib.pyplot as plt\n",
    "import seaborn as sns\n",
    "import nltk\n",
    "\n",
    "from sklearn.ensemble import RandomForestClassifier\n",
    "from sklearn.feature_extraction.text import TfidfVectorizer\n",
    "from sklearn.feature_extraction.text import TfidfTransformer\n",
    "\n",
    "from sklearn.model_selection import train_test_split\n",
    "from sklearn.linear_model import LogisticRegression\n",
    "from sklearn.ensemble import RandomForestClassifier\n",
    "from sklearn.naive_bayes import MultinomialNB\n",
    "from sklearn import svm\n",
    "from sklearn.svm import LinearSVC\n",
    "\n",
    "from sklearn.metrics import confusion_matrix\n",
    "from sklearn.metrics import accuracy_score\n",
    "from sklearn.metrics import f1_score, recall_score"
   ]
  },
  {
   "cell_type": "code",
   "execution_count": 2,
   "metadata": {},
   "outputs": [],
   "source": [
    "from nltk.corpus import stopwords\n",
    "stop_words=set(stopwords.words(\"english\"))"
   ]
  },
  {
   "cell_type": "code",
   "execution_count": 3,
   "metadata": {},
   "outputs": [],
   "source": [
    "sample_submission = pd.read_csv('sample_submission_dataset.csv')\n",
    "test_data = pd.read_csv('test_dataset.csv')\n",
    "training_data = pd.read_csv('train_dataset.csv')"
   ]
  },
  {
   "cell_type": "code",
   "execution_count": 39,
   "metadata": {},
   "outputs": [
    {
     "data": {
      "text/html": [
       "<div>\n",
       "<style scoped>\n",
       "    .dataframe tbody tr th:only-of-type {\n",
       "        vertical-align: middle;\n",
       "    }\n",
       "\n",
       "    .dataframe tbody tr th {\n",
       "        vertical-align: top;\n",
       "    }\n",
       "\n",
       "    .dataframe thead th {\n",
       "        text-align: right;\n",
       "    }\n",
       "</style>\n",
       "<table border=\"1\" class=\"dataframe\">\n",
       "  <thead>\n",
       "    <tr style=\"text-align: right;\">\n",
       "      <th></th>\n",
       "      <th>ID</th>\n",
       "      <th>headline</th>\n",
       "    </tr>\n",
       "  </thead>\n",
       "  <tbody>\n",
       "    <tr>\n",
       "      <th>0</th>\n",
       "      <td>5f99b099-c4db-4a02-9753-28c5e94a6b34</td>\n",
       "      <td>Israeli military launches airstrikes into Gaza...</td>\n",
       "    </tr>\n",
       "    <tr>\n",
       "      <th>1</th>\n",
       "      <td>3c413552-32c0-4000-a745-b4217fe427ca</td>\n",
       "      <td>Expelled' fair use upheld</td>\n",
       "    </tr>\n",
       "    <tr>\n",
       "      <th>2</th>\n",
       "      <td>71060e3b-bab0-4218-b1ce-8284ae46f6c3</td>\n",
       "      <td>31 Times Frankie Boyle's Twitter Was Out Of Co...</td>\n",
       "    </tr>\n",
       "    <tr>\n",
       "      <th>3</th>\n",
       "      <td>f0a03121-600f-4b69-b6db-989d0f3cf28a</td>\n",
       "      <td>What Does Your Zodiac Sign Say About Your Love...</td>\n",
       "    </tr>\n",
       "    <tr>\n",
       "      <th>4</th>\n",
       "      <td>456f7cfa-bdfe-45bd-9e88-7c4ae53eb4ba</td>\n",
       "      <td>Larson B ice-shelf collapse reveals exotic org...</td>\n",
       "    </tr>\n",
       "    <tr>\n",
       "      <th>...</th>\n",
       "      <td>...</td>\n",
       "      <td>...</td>\n",
       "    </tr>\n",
       "    <tr>\n",
       "      <th>15195</th>\n",
       "      <td>be658ab2-e073-4078-8d23-999bce6f0980</td>\n",
       "      <td>All The Hottest New Facial Expressions For Women</td>\n",
       "    </tr>\n",
       "    <tr>\n",
       "      <th>15196</th>\n",
       "      <td>3b876ee2-66c2-4743-8389-c93c2f598398</td>\n",
       "      <td>Kendall Jenner Posed Topless And She Looks Lik...</td>\n",
       "    </tr>\n",
       "    <tr>\n",
       "      <th>15197</th>\n",
       "      <td>f565e8b5-d6f0-4fb5-b1eb-3048d3e5d57a</td>\n",
       "      <td>Valech Report released</td>\n",
       "    </tr>\n",
       "    <tr>\n",
       "      <th>15198</th>\n",
       "      <td>c0bc2203-cd7a-46c2-9e9b-5f41ea1bb346</td>\n",
       "      <td>18 Hot And Delicious Slow Cooker Stews</td>\n",
       "    </tr>\n",
       "    <tr>\n",
       "      <th>15199</th>\n",
       "      <td>88b789f1-733f-4edf-83b0-f71c58a81da3</td>\n",
       "      <td>Israeli Air Force attacks targets in Gaza</td>\n",
       "    </tr>\n",
       "  </tbody>\n",
       "</table>\n",
       "<p>15200 rows × 2 columns</p>\n",
       "</div>"
      ],
      "text/plain": [
       "                                         ID  \\\n",
       "0      5f99b099-c4db-4a02-9753-28c5e94a6b34   \n",
       "1      3c413552-32c0-4000-a745-b4217fe427ca   \n",
       "2      71060e3b-bab0-4218-b1ce-8284ae46f6c3   \n",
       "3      f0a03121-600f-4b69-b6db-989d0f3cf28a   \n",
       "4      456f7cfa-bdfe-45bd-9e88-7c4ae53eb4ba   \n",
       "...                                     ...   \n",
       "15195  be658ab2-e073-4078-8d23-999bce6f0980   \n",
       "15196  3b876ee2-66c2-4743-8389-c93c2f598398   \n",
       "15197  f565e8b5-d6f0-4fb5-b1eb-3048d3e5d57a   \n",
       "15198  c0bc2203-cd7a-46c2-9e9b-5f41ea1bb346   \n",
       "15199  88b789f1-733f-4edf-83b0-f71c58a81da3   \n",
       "\n",
       "                                                headline  \n",
       "0      Israeli military launches airstrikes into Gaza...  \n",
       "1                              Expelled' fair use upheld  \n",
       "2      31 Times Frankie Boyle's Twitter Was Out Of Co...  \n",
       "3      What Does Your Zodiac Sign Say About Your Love...  \n",
       "4      Larson B ice-shelf collapse reveals exotic org...  \n",
       "...                                                  ...  \n",
       "15195   All The Hottest New Facial Expressions For Women  \n",
       "15196  Kendall Jenner Posed Topless And She Looks Lik...  \n",
       "15197                             Valech Report released  \n",
       "15198             18 Hot And Delicious Slow Cooker Stews  \n",
       "15199          Israeli Air Force attacks targets in Gaza  \n",
       "\n",
       "[15200 rows x 2 columns]"
      ]
     },
     "execution_count": 39,
     "metadata": {},
     "output_type": "execute_result"
    }
   ],
   "source": [
    "test_data"
   ]
  },
  {
   "cell_type": "code",
   "execution_count": 4,
   "metadata": {},
   "outputs": [
    {
     "data": {
      "text/html": [
       "<div>\n",
       "<style scoped>\n",
       "    .dataframe tbody tr th:only-of-type {\n",
       "        vertical-align: middle;\n",
       "    }\n",
       "\n",
       "    .dataframe tbody tr th {\n",
       "        vertical-align: top;\n",
       "    }\n",
       "\n",
       "    .dataframe thead th {\n",
       "        text-align: right;\n",
       "    }\n",
       "</style>\n",
       "<table border=\"1\" class=\"dataframe\">\n",
       "  <thead>\n",
       "    <tr style=\"text-align: right;\">\n",
       "      <th></th>\n",
       "      <th>headline</th>\n",
       "      <th>clickbait</th>\n",
       "      <th>ID</th>\n",
       "    </tr>\n",
       "  </thead>\n",
       "  <tbody>\n",
       "    <tr>\n",
       "      <th>0</th>\n",
       "      <td>Hussein enters \"not guilty\" plea at trial</td>\n",
       "      <td>0</td>\n",
       "      <td>84698cc7-8ae2-4ea3-a425-b7091561cee6</td>\n",
       "    </tr>\n",
       "    <tr>\n",
       "      <th>1</th>\n",
       "      <td>Iraq peace talks draw to a close in Finland</td>\n",
       "      <td>0</td>\n",
       "      <td>a4e35ca4-15fa-43e8-b68e-91457b23afee</td>\n",
       "    </tr>\n",
       "    <tr>\n",
       "      <th>2</th>\n",
       "      <td>British Premier Visits Northern Ireland</td>\n",
       "      <td>0</td>\n",
       "      <td>162991ee-ea2f-41ad-a753-649a68f54311</td>\n",
       "    </tr>\n",
       "    <tr>\n",
       "      <th>3</th>\n",
       "      <td>The Decline of Left-Handed First Basemen</td>\n",
       "      <td>0</td>\n",
       "      <td>2cd3aa32-6ec2-4af1-bd1d-560709066b8b</td>\n",
       "    </tr>\n",
       "    <tr>\n",
       "      <th>4</th>\n",
       "      <td>Who Said It: Donald Trump Or Kanye West</td>\n",
       "      <td>1</td>\n",
       "      <td>72553370-c348-4603-882b-39e04b610c39</td>\n",
       "    </tr>\n",
       "  </tbody>\n",
       "</table>\n",
       "</div>"
      ],
      "text/plain": [
       "                                      headline  clickbait  \\\n",
       "0    Hussein enters \"not guilty\" plea at trial          0   \n",
       "1  Iraq peace talks draw to a close in Finland          0   \n",
       "2      British Premier Visits Northern Ireland          0   \n",
       "3     The Decline of Left-Handed First Basemen          0   \n",
       "4      Who Said It: Donald Trump Or Kanye West          1   \n",
       "\n",
       "                                     ID  \n",
       "0  84698cc7-8ae2-4ea3-a425-b7091561cee6  \n",
       "1  a4e35ca4-15fa-43e8-b68e-91457b23afee  \n",
       "2  162991ee-ea2f-41ad-a753-649a68f54311  \n",
       "3  2cd3aa32-6ec2-4af1-bd1d-560709066b8b  \n",
       "4  72553370-c348-4603-882b-39e04b610c39  "
      ]
     },
     "execution_count": 4,
     "metadata": {},
     "output_type": "execute_result"
    }
   ],
   "source": [
    "training_data.head()"
   ]
  },
  {
   "cell_type": "code",
   "execution_count": 5,
   "metadata": {},
   "outputs": [],
   "source": [
    "from nltk.tokenize import RegexpTokenizer\n",
    "tokenizer = RegexpTokenizer(r'[a-zA-Z0-9]+')"
   ]
  },
  {
   "cell_type": "code",
   "execution_count": null,
   "metadata": {},
   "outputs": [],
   "source": [
    "preprocessed_data = [tokenizer.tokenize(list(training_data['headline'])[i]) for i in range(len(training_data))]"
   ]
  },
  {
   "cell_type": "code",
   "execution_count": 6,
   "metadata": {},
   "outputs": [],
   "source": [
    "X_train, X_test, y_train, y_test = train_test_split(training_data['headline'], training_data['clickbait'], random_state=0)"
   ]
  },
  {
   "cell_type": "code",
   "execution_count": 32,
   "metadata": {},
   "outputs": [],
   "source": [
    "tfidf = TfidfVectorizer(stop_words = 'english', ngram_range = (1,2))\n",
    "tfidf_text_train = tfidf.fit_transform(X_train)\n",
    "tfidf_text_test = tfidf.transform(X_test)"
   ]
  },
  {
   "cell_type": "code",
   "execution_count": 15,
   "metadata": {},
   "outputs": [],
   "source": [
    "#creating a function to call after each model iteration to print accuracy and recall scores for test and train\n",
    "def train_results(preds):\n",
    "    return \"Training Accuracy:\", accuracy_score(y_train,preds),\" Training Recall:\", recall_score(y_train,preds), \"F1-score:\", f1_score(y_train, preds)\n",
    "\n",
    "def test_results(preds):\n",
    "    return \"Testing Accuracy:\", accuracy_score(y_test,preds),\" Testing Recall:\", recall_score(y_test,preds),\"F1-score:\", f1_score(y_test, preds)"
   ]
  },
  {
   "cell_type": "code",
   "execution_count": 16,
   "metadata": {},
   "outputs": [
    {
     "name": "stdout",
     "output_type": "stream",
     "text": [
      "('Training Accuracy:', 0.9991228070175439, ' Training Recall:', 0.9986780646867013, 'F1-score:', 0.9991183212837241)\n",
      "('Testing Accuracy:', 0.975, ' Testing Recall:', 0.9771012230028624, 'F1-score:', 0.9753246753246754)\n"
     ]
    }
   ],
   "source": [
    "nb_classifier = MultinomialNB(alpha = .05)\n",
    "\n",
    "nb_classifier.fit(tfidf_text_train, y_train)\n",
    "\n",
    "nb_train_preds = nb_classifier.predict(tfidf_text_train)\n",
    "nb_test_preds = nb_classifier.predict(tfidf_text_test)\n",
    "\n",
    "print(train_results(nb_train_preds))\n",
    "print(test_results(nb_test_preds))"
   ]
  },
  {
   "cell_type": "code",
   "execution_count": 53,
   "metadata": {},
   "outputs": [],
   "source": [
    "final_x_test = test_data['headline']\n",
    "tfidf_final_text_test = tfidf.transform(final_x_test )\n",
    "nb_final_test_preds = nb_classifier.predict(tfidf_final_text_test)"
   ]
  },
  {
   "cell_type": "code",
   "execution_count": 56,
   "metadata": {},
   "outputs": [],
   "source": [
    "pred_df = pd.DataFrame(nb_final_test_preds)\n",
    "final_df = test_data.join(pred_df)"
   ]
  },
  {
   "cell_type": "code",
   "execution_count": 62,
   "metadata": {},
   "outputs": [],
   "source": [
    "final_df_ = final_df[['ID', 0]]"
   ]
  },
  {
   "cell_type": "code",
   "execution_count": 63,
   "metadata": {},
   "outputs": [],
   "source": [
    "final_df_  = final_df_.rename(columns={0: 'TARGET'})"
   ]
  },
  {
   "cell_type": "code",
   "execution_count": 65,
   "metadata": {},
   "outputs": [],
   "source": [
    "final_df_.to_csv('submission_001.csv',index=None)"
   ]
  },
  {
   "cell_type": "code",
   "execution_count": 11,
   "metadata": {},
   "outputs": [
    {
     "data": {
      "image/png": "[encoded data removed]",
      "text/plain": [
       "<Figure size 640x480 with 1 Axes>"
      ]
     },
     "metadata": {},
     "output_type": "display_data"
    }
   ],
   "source": [
    "#confusion matrix on test set NB Classifier\n",
    "sns.set()\n",
    "\n",
    "cm_dc = confusion_matrix(y_test, nb_test_preds)\n",
    "sns.set(font_scale=1.3)\n",
    "sns.heatmap(cm_dc.T, square=True, annot=True, fmt='d', cbar=False,cmap=\"inferno\", xticklabels=['non-clickbait','clickbait'],yticklabels=['non-clickbait','clickbait']\n",
    "            )\n",
    "plt.tight_layout()\n",
    "plt.xlabel('true label')\n",
    "plt.ylabel('predicted label')\n",
    "plt.show();"
   ]
  },
  {
   "cell_type": "code",
   "execution_count": 17,
   "metadata": {},
   "outputs": [
    {
     "name": "stdout",
     "output_type": "stream",
     "text": [
      "('Training Accuracy:', 1.0, ' Training Recall:', 1.0, 'F1-score:', 1.0)\n",
      "('Testing Accuracy:', 0.9406578947368421, ' Testing Recall:', 0.9820452771272443, 'F1-score:', 0.9436179522440304)\n"
     ]
    }
   ],
   "source": [
    "#rf_classifier = RandomForestClassifier(class_weight = 'balanced', n_estimators = 900 )\n",
    "rf_classifier = RandomForestClassifier(class_weight = 'balanced' )\n",
    "rf_classifier.fit(tfidf_text_train, y_train)\n",
    "\n",
    "rf_test_preds = rf_classifier.predict(tfidf_text_test)\n",
    "rf_train_preds = rf_classifier.predict(tfidf_text_train)\n",
    "\n",
    "print(train_results(rf_train_preds))\n",
    "print(test_results(rf_test_preds))"
   ]
  },
  {
   "cell_type": "code",
   "execution_count": 18,
   "metadata": {},
   "outputs": [
    {
     "name": "stderr",
     "output_type": "stream",
     "text": [
      "C:\\Users\\kesa1\\AppData\\Local\\Programs\\Python\\Python311\\Lib\\site-packages\\sklearn\\svm\\_classes.py:32: FutureWarning: The default value of `dual` will change from `True` to `'auto'` in 1.5. Set the value of `dual` explicitly to suppress the warning.\n",
      "  warnings.warn(\n"
     ]
    },
    {
     "name": "stdout",
     "output_type": "stream",
     "text": [
      "('Training Accuracy:', 0.9999561403508772, ' Training Recall:', 0.9999118709791134, 'F1-score:', 0.9999559335477901)\n",
      "('Testing Accuracy:', 0.9727631578947369, ' Testing Recall:', 0.9731980223783503, 'F1-score:', 0.9730714192793027)\n"
     ]
    },
    {
     "data": {
      "image/png": "[encoded data removed]",
      "text/plain": [
       "<Figure size 640x480 with 1 Axes>"
      ]
     },
     "metadata": {},
     "output_type": "display_data"
    }
   ],
   "source": [
    "#SVM Model\n",
    "#svm_classifier = svm.SVC(kernel = 'linear', decision_function_shape='ovo')\n",
    "svm_classifier = LinearSVC(class_weight='balanced', C=10, max_iter = 1500 )\n",
    "\n",
    "svm_classifier.fit(tfidf_text_train, y_train)\n",
    "\n",
    "svm_test_preds = svm_classifier.predict(tfidf_text_test)\n",
    "svm_train_preds = svm_classifier.predict(tfidf_text_train)\n",
    "\n",
    "print(train_results(svm_train_preds))\n",
    "print(test_results(svm_test_preds))\n",
    "\n",
    "#confusion matrix on test set SVM Classifier \n",
    "sns.set()\n",
    "\n",
    "cm_dc = confusion_matrix(y_test, svm_test_preds)\n",
    "sns.heatmap(cm_dc.T, square=True, annot=True, fmt='d', cbar=False,cmap=\"inferno\", xticklabels=['non-clickbait','clickbait'],yticklabels=['non-clickbait','clickbait']\n",
    "            )\n",
    "plt.xlabel('true label')\n",
    "plt.ylabel('predicted label');"
   ]
  },
  {
   "cell_type": "code",
   "execution_count": 19,
   "metadata": {},
   "outputs": [
    {
     "name": "stdout",
     "output_type": "stream",
     "text": [
      "('Training Accuracy:', 0.9999561403508772, ' Training Recall:', 0.9999118709791134, 'F1-score:', 0.9999559335477901)\n",
      "('Testing Accuracy:', 0.9732894736842105, ' Testing Recall:', 0.9724173822534479, 'F1-score:', 0.9735573791845773)\n"
     ]
    },
    {
     "data": {
      "image/png": "[encoded data removed]",
      "text/plain": [
       "<Figure size 640x480 with 1 Axes>"
      ]
     },
     "metadata": {},
     "output_type": "display_data"
    }
   ],
   "source": [
    "from sklearn.linear_model import LogisticRegression\n",
    "lr = LogisticRegression(C=500, class_weight = 'balanced', solver = 'liblinear', tol=0.0001)\n",
    "\n",
    "lr.fit(tfidf_text_train, y_train)\n",
    "\n",
    "lr_train_preds = lr.predict(tfidf_text_train)\n",
    "lr_test_preds = lr.predict(tfidf_text_test)\n",
    "\n",
    "print(train_results(lr_train_preds))\n",
    "print(test_results(lr_test_preds))\n",
    "\n",
    "#confusion matrix on test set lr Classifier \n",
    "sns.set()\n",
    "\n",
    "cm_dc = confusion_matrix(y_test, lr_test_preds)\n",
    "sns.heatmap(cm_dc.T, square=True, annot=True, fmt='d', cbar=False,cmap=\"inferno\", xticklabels=['non-clickbait','clickbait'],yticklabels=['non-clickbait','clickbait']\n",
    "            )\n",
    "plt.xlabel('true label')\n",
    "plt.ylabel('predicted label');"
   ]
  },
  {
   "cell_type": "code",
   "execution_count": 20,
   "metadata": {},
   "outputs": [
    {
     "ename": "AttributeError",
     "evalue": "'XGBClassifier' object has no attribute 'train'",
     "output_type": "error",
     "traceback": [
      "\u001b[1;31m---------------------------------------------------------------------------\u001b[0m",
      "\u001b[1;31mAttributeError\u001b[0m                            Traceback (most recent call last)",
      "Cell \u001b[1;32mIn[20], line 9\u001b[0m\n\u001b[0;32m      6\u001b[0m D_train \u001b[38;5;241m=\u001b[39m xgb\u001b[38;5;241m.\u001b[39mDMatrix(tfidf_text_train, label\u001b[38;5;241m=\u001b[39my_train)\n\u001b[0;32m      7\u001b[0m D_test \u001b[38;5;241m=\u001b[39m xgb\u001b[38;5;241m.\u001b[39mDMatrix(tfidf_text_test, label\u001b[38;5;241m=\u001b[39my_test)\n\u001b[1;32m----> 9\u001b[0m \u001b[43mxgb_clf\u001b[49m\u001b[38;5;241;43m.\u001b[39;49m\u001b[43mtrain\u001b[49m(D_train)\n\u001b[0;32m     10\u001b[0m xgb_test_preds \u001b[38;5;241m=\u001b[39m xgb_clf\u001b[38;5;241m.\u001b[39mpredict(D_test)\n\u001b[0;32m     11\u001b[0m xgb_train_preds \u001b[38;5;241m=\u001b[39m xgb_clf\u001b[38;5;241m.\u001b[39mpredict(D_train)\n",
      "\u001b[1;31mAttributeError\u001b[0m: 'XGBClassifier' object has no attribute 'train'"
     ]
    }
   ],
   "source": [
    "import xgboost as xgb\n",
    "from xgboost import XGBClassifier\n",
    "\n",
    "xgb_clf = XGBClassifier()\n",
    "\n",
    "D_train = xgb.DMatrix(tfidf_text_train, label=y_train)\n",
    "D_test = xgb.DMatrix(tfidf_text_test, label=y_test)\n",
    "\n",
    "xgb_clf.train(D_train)\n",
    "xgb_test_preds = xgb_clf.predict(D_test)\n",
    "xgb_train_preds = xgb_clf.predict(D_train)\n",
    "\n",
    "#print(train_results(lr_train_preds))\n",
    "print(test_results(xgb_test_preds))\n",
    "print(train_results(xgb_train_preds))\n",
    "#confusion matrix on test set xgboost Classifier \n",
    "sns.set()\n",
    "\n",
    "cm_dc = confusion_matrix(y_test, xgb_test_preds)\n",
    "sns.heatmap(cm_dc.T, square=True, annot=True, fmt='d', cbar=False,cmap=\"inferno\", xticklabels=['non-clickbait','clickbait'],yticklabels=['non-clickbait','clickbait']\n",
    "            )\n",
    "plt.xlabel('true label')\n",
    "plt.ylabel('predicted label')"
   ]
  },
  {
   "cell_type": "code",
   "execution_count": null,
   "metadata": {},
   "outputs": [],
   "source": []
  }
 ],
 "metadata": {
  "kernelspec": {
   "display_name": "Python 3 (ipykernel)",
   "language": "python",
   "name": "python3"
  },
  "language_info": {
   "codemirror_mode": {
    "name": "ipython",
    "version": 3
   },
   "file_extension": ".py",
   "mimetype": "text/x-python",
   "name": "python",
   "nbconvert_exporter": "python",
   "pygments_lexer": "ipython3",
   "version": "3.11.3"
  }
 },
 "nbformat": 4,
 "nbformat_minor": 4
}
